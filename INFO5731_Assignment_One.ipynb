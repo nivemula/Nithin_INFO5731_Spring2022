{
 "cells": [
  {
   "cell_type": "markdown",
   "metadata": {
    "colab_type": "text",
    "id": "view-in-github"
   },
   "source": [
    "<a href=\"https://colab.research.google.com/github/unt-iialab/INFO5731_Spring2020/blob/master/Assignments/INFO5731_Assignment_One.ipynb\" target=\"_parent\"><img src=\"https://colab.research.google.com/assets/colab-badge.svg\" alt=\"Open In Colab\"/></a>"
   ]
  },
  {
   "cell_type": "markdown",
   "metadata": {
    "colab_type": "text",
    "id": "Ryk8D1Q4Wsrp"
   },
   "source": [
    "# **INFO5731 Assignment One**"
   ]
  },
  {
   "cell_type": "markdown",
   "metadata": {
    "colab_type": "text",
    "id": "90_NR8c5XGWc"
   },
   "source": [
    "# Question 1\n",
    "\n",
    "(20 points). Write a Python program to generate 12 random numbers between 1 and 100. Sort the list of numbers in ascending order and print it out. Sort the list of numbers in descending order and print it out. Calculate the average for the group and print it out."
   ]
  },
  {
   "cell_type": "code",
   "execution_count": 55,
   "metadata": {
    "colab": {},
    "colab_type": "code",
    "id": "5QX6bJjGWXY9"
   },
   "outputs": [
    {
     "name": "stdout",
     "output_type": "stream",
     "text": [
      "Numbers Before Sorting - [17, 69, 94, 26, 17, 38, 45, 63, 1, 25, 88, 5]\n",
      "Ascending - [1, 5, 17, 17, 25, 26, 38, 45, 63, 69, 88, 94]\n",
      "Descending - [94, 88, 69, 63, 45, 38, 26, 25, 17, 17, 5, 1]\n",
      "Average 40.666666666666664\n"
     ]
    }
   ],
   "source": [
    "# Your code here\n",
    "from random import randint\n",
    "from statistics import mean\n",
    "\n",
    "RaNu = [randint(1, 100) for i in range(12)]\n",
    "\n",
    "print(\"Numbers Before Sorting - {0}\".format(RaNu))\n",
    "\n",
    "RaNu.sort()\n",
    "\n",
    "print(\"Ascending - {0}\".format(RaNu))\n",
    "\n",
    "RaNu.sort(reverse=True)\n",
    "\n",
    "print(\"Descending - {0}\".format(RaNu))\n",
    "\n",
    "print(\"Average {0}\".format(mean(RaNu)))\n",
    "\n"
   ]
  },
  {
   "cell_type": "markdown",
   "metadata": {
    "colab_type": "text",
    "id": "1F_PZdH9Sh49"
   },
   "source": [
    "# Question 2\n",
    "(25 points). Write a program that will do the following string formatting tasks:\n",
    "\n",
    "(1) Ask the user to enter two sentences.\n",
    "\n",
    "(2) Make each sentence into a list. Each element in the list should correspond to a word in the sentence. For example, if the sentence is \"Alas! Am I alive? This is my first python program\", the program should print out ['Alas, '!', 'Am', 'I', 'alive, '?', 'This', 'is', 'my', 'first', 'python', 'program'].\n",
    "\n",
    "(3) Compare the two sentences. Print out a list of words that occur in both sentences.\n",
    "\n",
    "(4) Remove any punctuation from the sentence and print it back out. It should remove at least the following characters, but it can remove more: period(“.”), comma (“,”), semicolon (“;”), and colon (“:”)\n",
    "\n",
    "(5) Count the number of vowels in the sentences. Print out each vowel and the number of times it appears in the sentences, such as: a:2, e:1, i:0, etc"
   ]
  },
  {
   "cell_type": "code",
   "execution_count": 57,
   "metadata": {
    "colab": {},
    "colab_type": "code",
    "id": "Y0oOSlsOS0cq"
   },
   "outputs": [
    {
     "name": "stdout",
     "output_type": "stream",
     "text": [
      "2.1\n",
      "Please do enter two sentences\n",
      "Enter first sentenceHi, how are you?\n",
      "Enter second sentencehey! how did you do that?\n",
      "2.2\n",
      "['Hi', ',', 'how', 'are', 'you', '?']\n",
      "['hey', '!', 'how', 'did', 'you', 'do', 'that', '?']\n",
      "2.3 Common words\n",
      "['you', '?', 'how']\n",
      "2.4\n",
      "Hi how are you\n",
      "hey how did you do that\n",
      "2.5\n",
      "{'a': 1, 'e': 1, 'i': 1, 'o': 2, 'u': 1}\n"
     ]
    }
   ],
   "source": [
    "import re\n",
    "#ip1=\"Hi, How are you? \"\n",
    "#ip2=\"Wow! how did you do that\"\n",
    "print(\"2.1\")\n",
    "print(\"Please do enter two sentences\")\n",
    "ip1 = input(\"Enter first sentence\")\n",
    "ip2 = input(\"Enter second sentence\")\n",
    "\n",
    "print(\"2.2\")\n",
    "lt1=re.split('([^a-zA-Z])',ip1)\n",
    "list1=' '.join(lt1).split()\n",
    "print(list1)\n",
    "\n",
    "lt2=re.split('([^a-zA-Z])',ip2)\n",
    "list2=' '.join(lt2).split()\n",
    "print(list2)\n",
    "\n",
    "print(\"2.3 Common words\")\n",
    "# Common words list\n",
    "print(list(set(list1)&set(list2)))\n",
    "# list by removing punctuation\n",
    "# ip1\n",
    "print(\"2.4\")\n",
    "list3=re.split('[^a-zA-Z0-9@#$%&* ]+',ip1)\n",
    "onlyStr1=''.join(list3)\n",
    "print(onlyStr1)\n",
    "# ip2\n",
    "list4=re.split('[^a-zA-Z0-9@#$%&* ]+',ip2)\n",
    "onlyStr2=''.join(list4)\n",
    "print(onlyStr2)\n",
    "\n",
    "print(\"2.5\")\n",
    "# counting vowels\n",
    "v_counts = {}\n",
    "for i in \"aeiou\":\n",
    "    temp = ip1.count(i)\n",
    "    v_counts[i] = temp\n",
    "\n",
    "print(v_counts)"
   ]
  },
  {
   "cell_type": "markdown",
   "metadata": {
    "colab_type": "text",
    "id": "CmFoI4jDS9nx"
   },
   "source": [
    "# Question 3 \n",
    "\n",
    "(15 points). The formula that describes the volume V of a sphere with radius r is the following:\n",
    "\n",
    "$ V=\\frac{4}{3}\\ast\\ \\pi\\ast\\ r^3 $\n",
    "\n",
    "Write a program to calculate the value of V when r is in the range of 1–10. Output the result in the following format:\n",
    "\n",
    "\tr\tV\n",
    "\t1\t…\n",
    "\t2\t…\n",
    "\t3\t…\n"
   ]
  },
  {
   "cell_type": "code",
   "execution_count": 58,
   "metadata": {
    "colab": {},
    "colab_type": "code",
    "id": "pEyqeioAT95b"
   },
   "outputs": [
    {
     "name": "stdout",
     "output_type": "stream",
     "text": [
      "radius     volume\n",
      "1     4.190476190476191\n",
      "2     33.523809523809526\n",
      "3     113.14285714285715\n",
      "4     268.1904761904762\n",
      "5     523.8095238095239\n",
      "6     905.1428571428572\n",
      "7     1437.3333333333335\n",
      "8     2145.5238095238096\n",
      "9     3054.857142857143\n"
     ]
    }
   ],
   "source": [
    "def volume(r):\n",
    "  return (4/3) * 22/7 * (r ** 3)\n",
    "\n",
    "print('radius     volume')\n",
    "\n",
    "for r in range(1,10):\n",
    "    \n",
    "  print(\"{0}     {1}\".format(r, volume(r)))\n",
    "\n",
    "\n"
   ]
  },
  {
   "cell_type": "code",
   "execution_count": null,
   "metadata": {
    "colab": {},
    "colab_type": "code",
    "id": "pMCr3l8tnu0j"
   },
   "outputs": [],
   "source": []
  },
  {
   "cell_type": "markdown",
   "metadata": {
    "colab_type": "text",
    "id": "z3tBE7E-Xn5X"
   },
   "source": [
    "# Question 4\n",
    "\n",
    "(40 points). In the field of Data Science, data is often formatted as a comma-delimited (CSV) file, where each line in a file corresponds to a field's value. Refer to Chapter 9 (p. 106) for more information on comma-delimited files. To answer this question, you will need to download the file [Assignment1_denton_housing.csv](https://raw.githubusercontent.com/unt-iialab/info5731-spring2022/main/assignments/Assignment1_denton_housing.csv) included with this assignment. The file [Assignment1_denton_housing.csv](https://raw.githubusercontent.com/unt-iialab/info5731-spring2022/main/assignments/Assignment1_denton_housing.csv) contains statistics about housing in the city of Denton from 2008 to 2014. Write a program to implement the following questions.\n",
    "\n",
    "(1) (10 pts) Calculate the difference in the number of Occupied Housing Units from year to year and print it. The difference must be calculated for the consecutive years such as 2008-2009, 2009-2010 etc. Finally, print the values in the ascending order.\n",
    "\n",
    "(2) (10 pts) For all the years, calculate the percentage of housing units which are vacant an occupied. Print the results in the following format:\n",
    "\n",
    "Year Vacant Housing Units Occupied Housing Units\n",
    "\n",
    "    2008  30%   70%                          \n",
    "\t2009 ----- -----\n",
    "\t2010 ----- -----\n",
    "    2011 ----- -----\n",
    "\t2012 ----- -----\n",
    "    2013 ----- -----\n",
    "\t2014 ----- -----\n",
    "  \n",
    "  \n",
    "\n",
    "(3) (10 pts) Calculate and print the valued and years in which the highest number of housing units were vacant and occupied. Print the results in the following format:  \n",
    "\n",
    "                              Year\tValue\n",
    "\tVacant Housing Units\t  -----   -----\n",
    "\tOccupied Housing Units\t-----   -----\n",
    "\n",
    "(4) (10 pts) Calculate the harmonic mean of the total housing units and print it out. You can find the information about harmonic mean here: https://ncalculators.com/statistics/harmonic-mean-calculator.htm"
   ]
  },
  {
   "cell_type": "code",
   "execution_count": 59,
   "metadata": {
    "colab": {},
    "colab_type": "code",
    "id": "lqGYuHBhcsRH"
   },
   "outputs": [
    {
     "data": {
      "text/plain": [
       "17    -795.0\n",
       "11    -303.0\n",
       "8     1404.0\n",
       "5     1565.0\n",
       "2     2622.0\n",
       "14    5091.0\n",
       "20       NaN\n",
       "Name: value, dtype: float64"
      ]
     },
     "execution_count": 59,
     "metadata": {},
     "output_type": "execute_result"
    }
   ],
   "source": [
    "import pandas as pd\n",
    "data = pd.read_csv(\"https://raw.githubusercontent.com/unt-iialab/info5731-spring2022/main/assignments/Assignment1_denton_housing.csv\")\n",
    "#data\n",
    "occupied_apart = data[data['title_field'] == 'Occupied Housing Units'].sort_values(by=['year'])\n",
    "occupied_apart.value.diff().sort_values()\n",
    "\n",
    "\n",
    "\n"
   ]
  },
  {
   "cell_type": "code",
   "execution_count": 60,
   "metadata": {},
   "outputs": [
    {
     "data": {
      "text/html": [
       "<div>\n",
       "<style scoped>\n",
       "    .dataframe tbody tr th:only-of-type {\n",
       "        vertical-align: middle;\n",
       "    }\n",
       "\n",
       "    .dataframe tbody tr th {\n",
       "        vertical-align: top;\n",
       "    }\n",
       "\n",
       "    .dataframe thead th {\n",
       "        text-align: right;\n",
       "    }\n",
       "</style>\n",
       "<table border=\"1\" class=\"dataframe\">\n",
       "  <thead>\n",
       "    <tr style=\"text-align: right;\">\n",
       "      <th></th>\n",
       "      <th>Year</th>\n",
       "      <th>Empty rooms</th>\n",
       "      <th>Occupied rooms</th>\n",
       "    </tr>\n",
       "  </thead>\n",
       "  <tbody>\n",
       "    <tr>\n",
       "      <th>0</th>\n",
       "      <td>2008</td>\n",
       "      <td>10.88265281351653 %</td>\n",
       "      <td>89.11734718648347 %</td>\n",
       "    </tr>\n",
       "    <tr>\n",
       "      <th>1</th>\n",
       "      <td>2009</td>\n",
       "      <td>9.07111572444872 %</td>\n",
       "      <td>90.92888427555128 %</td>\n",
       "    </tr>\n",
       "    <tr>\n",
       "      <th>2</th>\n",
       "      <td>2010</td>\n",
       "      <td>8.142556337081672 %</td>\n",
       "      <td>91.85744366291833 %</td>\n",
       "    </tr>\n",
       "    <tr>\n",
       "      <th>3</th>\n",
       "      <td>2011</td>\n",
       "      <td>9.379522229890688 %</td>\n",
       "      <td>90.6204777701093 %</td>\n",
       "    </tr>\n",
       "    <tr>\n",
       "      <th>4</th>\n",
       "      <td>2012</td>\n",
       "      <td>6.677600230491346 %</td>\n",
       "      <td>93.32239976950866 %</td>\n",
       "    </tr>\n",
       "    <tr>\n",
       "      <th>5</th>\n",
       "      <td>2013</td>\n",
       "      <td>8.801787504176412 %</td>\n",
       "      <td>91.19821249582358 %</td>\n",
       "    </tr>\n",
       "    <tr>\n",
       "      <th>6</th>\n",
       "      <td>2014</td>\n",
       "      <td>5.730110570363885 %</td>\n",
       "      <td>94.26988942963611 %</td>\n",
       "    </tr>\n",
       "  </tbody>\n",
       "</table>\n",
       "</div>"
      ],
      "text/plain": [
       "   Year          Empty rooms       Occupied rooms\n",
       "0  2008  10.88265281351653 %  89.11734718648347 %\n",
       "1  2009   9.07111572444872 %  90.92888427555128 %\n",
       "2  2010  8.142556337081672 %  91.85744366291833 %\n",
       "3  2011  9.379522229890688 %   90.6204777701093 %\n",
       "4  2012  6.677600230491346 %  93.32239976950866 %\n",
       "5  2013  8.801787504176412 %  91.19821249582358 %\n",
       "6  2014  5.730110570363885 %  94.26988942963611 %"
      ]
     },
     "execution_count": 60,
     "metadata": {},
     "output_type": "execute_result"
    }
   ],
   "source": [
    "vacancy_list = data[data['title_field'] == 'Vacant Housing Units'].sort_values(by=['year'])['value'].values.tolist()\n",
    "\n",
    "occupied_list = data[data['title_field'] == 'Occupied Housing Units'].sort_values(by=['year'])['value'].values.tolist()\n",
    "\n",
    "list_total = data[data['title_field'] == 'Total Housing Units'].sort_values(by=['year'])['value'].values.tolist()\n",
    "\n",
    "year = data[data['title_field'] == 'Total Housing Units'].sort_values(by=['year'])['year'].values.tolist()\n",
    "\n",
    "Vacant = [str((vacant/total)*100)+' %' for vacant,total in zip(vacancy_list,list_total)]\n",
    "\n",
    "occupied = [str((occupied/total)*100)+' %' for occupied, total in zip(occupied_list, list_total)]\n",
    "\n",
    "final_r = pd.DataFrame(list(zip(year,Vacant, occupied)), columns =['Year','Empty rooms', 'Occupied rooms'])\n",
    "final_r"
   ]
  },
  {
   "cell_type": "code",
   "execution_count": 70,
   "metadata": {},
   "outputs": [
    {
     "name": "stdout",
     "output_type": "stream",
     "text": [
      "               title_field  year  value\n",
      "2   Occupied Housing Units  2014  46295\n",
      "19    Vacant Housing Units  2008   4483\n"
     ]
    }
   ],
   "source": [
    "vacancy = data[data['title_field'] == 'Vacant Housing Units']\n",
    "maximum_d = pd.concat([occupied_apart[occupied_apart['value'] == occupied_apart['value'].max()],vacancy[vacancy['value'] == vacancy['value'].max()]])\n",
    "print(maximum_d[['title_field','year','value']])"
   ]
  },
  {
   "cell_type": "code",
   "execution_count": 68,
   "metadata": {},
   "outputs": [
    {
     "name": "stdout",
     "output_type": "stream",
     "text": [
      "Harmonic mean 44398.28543969185\n"
     ]
    }
   ],
   "source": [
    "from scipy import stats\n",
    "print('Harmonic mean {0}'.format(stats.hmean(list_total)))"
   ]
  },
  {
   "cell_type": "code",
   "execution_count": null,
   "metadata": {},
   "outputs": [],
   "source": []
  },
  {
   "cell_type": "code",
   "execution_count": null,
   "metadata": {},
   "outputs": [],
   "source": []
  }
 ],
 "metadata": {
  "colab": {
   "authorship_tag": "ABX9TyOAjsNCkNulTpzgRQbHdy3f",
   "collapsed_sections": [],
   "include_colab_link": true,
   "name": "INFO5731_Assignment_One.ipynb",
   "provenance": []
  },
  "kernelspec": {
   "display_name": "Python 3 (ipykernel)",
   "language": "python",
   "name": "python3"
  },
  "language_info": {
   "codemirror_mode": {
    "name": "ipython",
    "version": 3
   },
   "file_extension": ".py",
   "mimetype": "text/x-python",
   "name": "python",
   "nbconvert_exporter": "python",
   "pygments_lexer": "ipython3",
   "version": "3.9.7"
  }
 },
 "nbformat": 4,
 "nbformat_minor": 1
}
